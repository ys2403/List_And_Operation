{
 "cells": [
  {
   "cell_type": "markdown",
   "metadata": {},
   "source": [
    "\n",
    "SLICING A STRING    "
   ]
  },
  {
   "cell_type": "code",
   "execution_count": 7,
   "metadata": {},
   "outputs": [
    {
     "data": {
      "text/plain": [
       "[2, 1]"
      ]
     },
     "execution_count": 7,
     "metadata": {},
     "output_type": "execute_result"
    }
   ],
   "source": [
    "\n",
    "\n",
    "list_1 = [1,2,3]\n",
    "\n",
    "## list_1 [start:Stop:stepSize]\n",
    "#will print at stop -1 \n",
    "\n",
    "list_1[0:1] >>> 1\n",
    "\n",
    "\n",
    "## Reverse a string \n",
    "list_1[::-1] >>> 3 2 1\n",
    "\n",
    "### Reverse last 2 elements\n",
    "list_1[-2::-1]"
   ]
  },
  {
   "cell_type": "markdown",
   "metadata": {},
   "source": [
    "Built in Functions\n"
   ]
  },
  {
   "cell_type": "code",
   "execution_count": 8,
   "metadata": {},
   "outputs": [
    {
     "ename": "SyntaxError",
     "evalue": "invalid syntax (3761489373.py, line 2)",
     "output_type": "error",
     "traceback": [
      "\u001b[1;36m  Input \u001b[1;32mIn [8]\u001b[1;36m\u001b[0m\n\u001b[1;33m    len(list_1) >>> 3\u001b[0m\n\u001b[1;37m                  ^\u001b[0m\n\u001b[1;31mSyntaxError\u001b[0m\u001b[1;31m:\u001b[0m invalid syntax\n"
     ]
    }
   ],
   "source": [
    "# Len()\n",
    "len(list_1) >>> 3\n",
    "\n",
    "# Append : Adds a single element to list which is passed as argument to the end of list\n",
    "list_1.append(4)  >>> 1,2,3,4\n",
    "list_1.append([5,6]) >>> [1,2,3,4,[5,6]]\n",
    "\n",
    "# Extend : Adds another list to existing list which is passed as argument to the end of list\n",
    "list_1 = [1,2,3]\n",
    "list_2 = [4,5]\n",
    "list_1.extend(list_2)\n",
    "list_1 >>> 1,2,3,4,5\n",
    "\n",
    "\n",
    "# Insert : inserts a particular element at particular index . (index, Value)\n",
    "list_1 = [1,2,3]\n",
    "list_1.insert(1,10)\n",
    "list_1 >>>  [1,10,2,3]\n",
    "\n",
    "# Count : Returns number of time given element appears\n",
    "list_1 = [1,1,2,3]\n",
    "list_1.count(1) >>> 1\n",
    "\n",
    "# Index : Returns the first occurence of in the list\n",
    "list_1 = [1,2,3]\n",
    "list_1.index(2) >>> 1\n",
    "list_1.index(90) >>> 90 is not in the list\n",
    "\n",
    "# Remove : Removes the first occurance of the element in the list\n",
    "list_1 = [1,2,3]\n",
    "list_1.remove(2)\n",
    "list_1 >>> [1,3]\n",
    "\n",
    "# Pop : Removes the element passed as the argument. No argument is passed removes the last element\n",
    "list_1 = [1,2,3]\n",
    "list_1.pop(2)\n",
    "list_1 >>> 1,3\n",
    "list_1.pop()\n",
    "list_1 >>> 1\n",
    "\n",
    "# Reverse : Reverse a list\n",
    "list_1.reverse()\n",
    "\n",
    "# Sort : Sort the list\n",
    "list_1.sort()\n",
    "\n",
    "min(list_1), max (list_1) , sum (list_1)"
   ]
  },
  {
   "cell_type": "code",
   "execution_count": null,
   "metadata": {},
   "outputs": [],
   "source": []
  }
 ],
 "metadata": {
  "kernelspec": {
   "display_name": "Python 3",
   "language": "python",
   "name": "python3"
  },
  "language_info": {
   "codemirror_mode": {
    "name": "ipython",
    "version": 3
   },
   "file_extension": ".py",
   "mimetype": "text/x-python",
   "name": "python",
   "nbconvert_exporter": "python",
   "pygments_lexer": "ipython3",
   "version": "3.9.11"
  }
 },
 "nbformat": 4,
 "nbformat_minor": 2
}
